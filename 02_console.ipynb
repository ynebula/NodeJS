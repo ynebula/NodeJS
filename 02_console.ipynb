{
 "cells": [
  {
   "cell_type": "code",
   "execution_count": 1,
   "metadata": {},
   "outputs": [
    {
     "name": "stdout",
     "output_type": "stream",
     "text": [
      "hello world\n",
      "intVal : 3\n",
      "obj : [object Object]\n",
      "obj :  { name: 'NodeJS', how: 'Interesting' }\n"
     ]
    },
    {
     "data": {
      "text/plain": [
       "undefined"
      ]
     },
     "execution_count": 1,
     "metadata": {},
     "output_type": "execute_result"
    }
   ],
   "source": [
    "var intVal = 3;\n",
    "var obj = {\n",
    "    name : 'NodeJS',\n",
    "    how : 'Interesting'\n",
    "};\n",
    "\n",
    "console.log('hello world');\n",
    "console.log('intVal : ' + intVal);\n",
    "console.log('obj : ' + obj);\n",
    "console.log('obj : ', obj);"
   ]
  },
  {
   "cell_type": "code",
   "execution_count": 5,
   "metadata": {},
   "outputs": [
    {
     "name": "stdout",
     "output_type": "stream",
     "text": [
      "{ SHELL: '/bin/bash',\n",
      "  TMPDIR: '/var/folders/y6/469lts8s0s57hjwf8fvjs0jsrrhs6g/T/',\n",
      "  CONDA_SHLVL: '1',\n",
      "  CONDA_PROMPT_MODIFIER: '(base) ',\n",
      "  LC_ALL: 'en_US.UTF-8',\n",
      "  USER: '1004678',\n",
      "  CONDA_EXE: '/Users/1004678/opt/anaconda3/bin/conda',\n",
      "  SSH_AUTH_SOCK: '/private/tmp/com.apple.launchd.BO2UyfDWxq/Listeners',\n",
      "  __CF_USER_TEXT_ENCODING: '0x718864CF:0x3:0x33',\n",
      "  _CE_CONDA: '',\n",
      "  CONDA_ROOT: '/Users/1004678/opt/anaconda3',\n",
      "  PATH:\n",
      "   '/Users/1004678/opt/anaconda3/bin:/Users/1004678/opt/anaconda3/condabin:/usr/bin:/bin:/usr/sbin:/sbin',\n",
      "  CONDA_PREFIX: '/Users/1004678/opt/anaconda3',\n",
      "  PWD: '/Users/1004678',\n",
      "  LANG: 'en_US.UTF-8',\n",
      "  XPC_FLAGS: '0x0',\n",
      "  _CE_M: '',\n",
      "  XPC_SERVICE_NAME: '0',\n",
      "  HOME: '/Users/1004678',\n",
      "  SHLVL: '2',\n",
      "  CONDA_PYTHON_EXE: '/Users/1004678/opt/anaconda3/bin/python',\n",
      "  LOGNAME: '1004678',\n",
      "  LC_CTYPE: 'UTF-8',\n",
      "  CONDA_DEFAULT_ENV: 'base',\n",
      "  _: '/Users/1004678/opt/anaconda3/bin/jupyter',\n",
      "  JPY_PARENT_PID: '23711' }\n",
      "x64\n",
      "darwin\n"
     ]
    },
    {
     "data": {
      "text/plain": [
       "undefined"
      ]
     },
     "execution_count": 5,
     "metadata": {},
     "output_type": "execute_result"
    }
   ],
   "source": [
    "console.log(process.env);\n",
    "console.log(process.arch);\n",
    "console.log(process.platform);"
   ]
  },
  {
   "cell_type": "code",
   "execution_count": 2,
   "metadata": {},
   "outputs": [
    {
     "name": "stdout",
     "output_type": "stream",
     "text": [
      "sum :  49995000\n",
      "TIMER: 0.810ms\n"
     ]
    },
    {
     "data": {
      "text/plain": [
       "undefined"
      ]
     },
     "execution_count": 2,
     "metadata": {},
     "output_type": "execute_result"
    }
   ],
   "source": [
    "console.time('TIMER')\n",
    "var sum = 0;\n",
    "for(var i=1; i<10000; i++){\n",
    "    sum += i;\n",
    "}\n",
    "console.log('sum : ', sum);\n",
    "console.timeEnd('TIMER')"
   ]
  },
  {
   "cell_type": "markdown",
   "metadata": {},
   "source": [
    "## Custom Console"
   ]
  },
  {
   "cell_type": "code",
   "execution_count": 4,
   "metadata": {},
   "outputs": [
    {
     "data": {
      "text/plain": [
       "undefined"
      ]
     },
     "execution_count": 4,
     "metadata": {},
     "output_type": "execute_result"
    }
   ],
   "source": [
    "var fs = require('fs');\n",
    "var output = fs.createWriteStream('stdout.log');\n",
    "var errorOutput = fs.createWriteStream('error.log');\n",
    "\n",
    "var Console = require('console').Console;\n",
    "var logger = new Console(output, errorOutput);\n",
    "\n",
    "logger.info('info message');\n",
    "logger.log('log message');\n",
    "\n",
    "logger.warn('warning');\n",
    "logger.error('error message');"
   ]
  },
  {
   "cell_type": "code",
   "execution_count": null,
   "metadata": {},
   "outputs": [],
   "source": []
  }
 ],
 "metadata": {
  "kernelspec": {
   "display_name": "Javascript (Node.js)",
   "language": "javascript",
   "name": "javascript"
  },
  "language_info": {
   "file_extension": ".js",
   "mimetype": "application/javascript",
   "name": "javascript",
   "version": "10.13.0"
  }
 },
 "nbformat": 4,
 "nbformat_minor": 4
}
