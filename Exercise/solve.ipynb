{
 "cells": [
  {
   "cell_type": "code",
   "execution_count": 1,
   "metadata": {},
   "outputs": [
    {
     "data": {
      "text/plain": [
       "undefined"
      ]
     },
     "execution_count": 1,
     "metadata": {},
     "output_type": "execute_result"
    }
   ],
   "source": [
    "// 영화 정보와 포스터 업로드 서버 실습\n",
    "\n",
    "// 1. 목록 출력\n",
    "// 2. POST 요청 처리\n",
    "// 3. 영화 포스터\n",
    "// 4. 포스터 업로드 기능 추가\n",
    "\n",
    "var http = require('http');\n",
    "var fs = require('fs');\n",
    "var querystring = require('querystring');\n",
    "var pathUtil = require('path');\n",
    "var url = require('url');\n",
    "var formidable = require('formidable');\n",
    "\n",
    "var uploadDir = __dirname + '/upload';\n",
    "var imageDir = __dirname + '/images';\n",
    "\n",
    "var initialDB = fs.readFileSync('./initialDB.json');\n",
    "var movieList = JSON.parse(initialDB);"
   ]
  },
  {
   "cell_type": "code",
   "execution_count": 5,
   "metadata": {},
   "outputs": [
    {
     "data": {
      "text/plain": [
       "Server {\n",
       "  _events:\n",
       "   { request: [Function],\n",
       "     connection: [Function: connectionListener] },\n",
       "  _eventsCount: 2,\n",
       "  _maxListeners: undefined,\n",
       "  _connections: 0,\n",
       "  _handle:\n",
       "   TCP {\n",
       "     reading: false,\n",
       "     onread: null,\n",
       "     onconnection: [Function: onconnection],\n",
       "     [Symbol(owner)]: [Circular] },\n",
       "  _usingWorkers: false,\n",
       "  _workers: [],\n",
       "  _unref: false,\n",
       "  allowHalfOpen: true,\n",
       "  pauseOnConnect: false,\n",
       "  httpAllowHalfOpen: false,\n",
       "  timeout: 120000,\n",
       "  keepAliveTimeout: 5000,\n",
       "  _pendingResponseData: 0,\n",
       "  maxHeadersCount: null,\n",
       "  _connectionKey: '6::::4000',\n",
       "  [Symbol(IncomingMessage)]:\n",
       "   { [Function: IncomingMessage]\n",
       "     super_:\n",
       "      { [Function: Readable]\n",
       "        ReadableState: [Function: ReadableState],\n",
       "        super_: [Function],\n",
       "        _fromList: [Function: fromList] } },\n",
       "  [Symbol(ServerResponse)]:\n",
       "   { [Function: ServerResponse] super_: { [Function: OutgoingMessage] super_: [Function] } },\n",
       "  [Symbol(asyncId)]: 31 }"
      ]
     },
     "execution_count": 5,
     "metadata": {},
     "output_type": "execute_result"
    }
   ],
   "source": [
    "var server = http.createServer(function (req, res) {\n",
    "   if ( req.method.toLowerCase() == 'get' && req.url == '/' ) {\n",
    "      showList(req, res);      \n",
    "   }\n",
    "   else if ( req.method.toLowerCase() == 'get' ) {\n",
    "      // 이미지\n",
    "      var parsed = url.parse(req.url);\n",
    "      // 127.0.0.1:3000/images/Avata.jpg?12331\n",
    "      var path = __dirname + parsed.pathname; // /images/Avata.jpg\n",
    "      fs.access(path, function(err) {\n",
    "         if ( err ) {\n",
    "            res.statusCode = 404;\n",
    "            res.end('Not Found');\n",
    "            return;\n",
    "         }\n",
    "         var is = fs.createReadStream(path);\n",
    "         is.pipe(res);\n",
    "      });      \n",
    "   }\n",
    "   else if ( req.method.toLowerCase() == 'post') {\n",
    "      addNewMovie(req, res);\n",
    "   }\n",
    "   else {\n",
    "      res.statusCode = 400;\n",
    "      res.end('Error');\n",
    "   }\n",
    "});\n",
    "\n",
    "server.listen(4000);"
   ]
  },
  {
   "cell_type": "code",
   "execution_count": 6,
   "metadata": {},
   "outputs": [
    {
     "data": {
      "text/plain": [
       "undefined"
      ]
     },
     "execution_count": 6,
     "metadata": {},
     "output_type": "execute_result"
    }
   ],
   "source": [
    "function addNewMovie(req, res) {\n",
    "   var form = new formidable.IncomingForm();\n",
    "   form.keepExtenstion = true;\n",
    "   form.uploadDir = uploadDir;\n",
    "   form.parse(req, function(err, fields, files) {\n",
    "      if ( err ) {\n",
    "         res.statusCode = 404;\n",
    "         res.end('Error');\n",
    "         return;\n",
    "      }\n",
    "      \n",
    "      var title = fields.title;\n",
    "      var director = fields.director;\n",
    "      var year = fields.year;\n",
    "      \n",
    "      var poster = files.poster;\n",
    "      //poster.path;\n",
    "      var ext = pathUtil.extname(poster.name);\n",
    "      var newFileName = title + ext;\n",
    "      var newPath = imageDir + pathUtil.sep + newFileName;\n",
    "      \n",
    "      fs.renameSync(poster.path, newPath);\n",
    "      var url = '/images/' + newFileName; // /images/Starwars7.jpg\n",
    "      \n",
    "      var info = {\n",
    "         title : title,\n",
    "         director : director,\n",
    "         year : year,\n",
    "         poster : url\n",
    "      };\n",
    "      movieList.push(info);\n",
    "      \n",
    "      res.statusCode = 302;\n",
    "      res.setHeader('Location', '.');\n",
    "      res.end();          \n",
    "   });\n",
    "\n",
    "}"
   ]
  },
  {
   "cell_type": "code",
   "execution_count": 7,
   "metadata": {},
   "outputs": [
    {
     "data": {
      "text/plain": [
       "undefined"
      ]
     },
     "execution_count": 7,
     "metadata": {},
     "output_type": "execute_result"
    }
   ],
   "source": [
    "function showList(req, res) {\n",
    "   var html = '<html>';\n",
    "   html += '<head>';\n",
    "   html += '<meta chatset=\"UTF8\">';\n",
    "   html += '<style>';\n",
    "   html += 'form label { width:100px; display:inline-block; }'\n",
    "   html += 'li img { height:100px }';\n",
    "   html += '</style>';\n",
    "   html += '</head>';\n",
    "   html += '<body>';\n",
    "   html += '<h1>Favorite Movie</h1>';\n",
    "   html += '<div>';\n",
    "   html += '<ul>';\n",
    "   movieList.forEach(function(movie) {\n",
    "      html += '<li>';\n",
    "      if ( movie.poster ) {\n",
    "         html += '<img src=\"' + movie.poster +'\">';\n",
    "      }\n",
    "      html += movie.title + '(' + movie.director + ',' + movie.year + ')' + '</li>';\n",
    "   });\n",
    "   html += '</ul>';\n",
    "   html += '</div>';\n",
    "   \n",
    "   html += '<form method=\"post\" action=\".\" enctype=\"multipart/form-data\">';\n",
    "   html += '<h4>새 영화 입력</h4>';\n",
    "   html += '<ul>';\n",
    "   html += '<li><label>영화 제목</label><input type=\"text\" name=\"title\"></li>';\n",
    "   html += '<li><label>영화 감독</label><input type=\"text\" name=\"director\"></li>';\n",
    "   html += '<li><label>연도</label><input type=\"number\" name=\"year\"></li>';\n",
    "   html += '<li><label>포스터</label><input type=\"file\" name=\"poster\"></li>';   \n",
    "   html += '</ul>';\n",
    "   html += '<input type=\"submit\" value=\"올리기\">';\n",
    "   html += '</form>';\n",
    "   \n",
    "   html += '</body>';\n",
    "   html += '</html>';\n",
    "   res.writeHeader(200, {'Contnet-Type':'text/html'});\n",
    "   res.end(html);\n",
    "}"
   ]
  },
  {
   "cell_type": "code",
   "execution_count": null,
   "metadata": {},
   "outputs": [],
   "source": []
  },
  {
   "cell_type": "code",
   "execution_count": null,
   "metadata": {},
   "outputs": [],
   "source": []
  },
  {
   "cell_type": "code",
   "execution_count": null,
   "metadata": {},
   "outputs": [],
   "source": []
  }
 ],
 "metadata": {
  "kernelspec": {
   "display_name": "Javascript (Node.js)",
   "language": "javascript",
   "name": "javascript"
  },
  "language_info": {
   "file_extension": ".js",
   "mimetype": "application/javascript",
   "name": "javascript",
   "version": "10.13.0"
  }
 },
 "nbformat": 4,
 "nbformat_minor": 4
}
