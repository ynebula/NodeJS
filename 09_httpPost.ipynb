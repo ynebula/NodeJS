{
 "cells": [
  {
   "cell_type": "markdown",
   "metadata": {},
   "source": [
    "크롬 확장 프로그램에서(웹스토어) http cient로 검색후 -> 포스트인코드 -> http 클라인어트 프로그램 -> "
   ]
  },
  {
   "cell_type": "code",
   "execution_count": 1,
   "metadata": {},
   "outputs": [
    {
     "data": {
      "text/plain": [
       "undefined"
      ]
     },
     "execution_count": 1,
     "metadata": {},
     "output_type": "execute_result"
    }
   ],
   "source": [
    "function showList(req, res) {\n",
    "    res.writeHeader(200, { 'Content-Type': 'text/html; charset=UTF-8' });\n",
    "    res.write('<html>');\n",
    "    res.write('<meta charset=\"UTF-8\">');\n",
    "    res.write('<body>');\n",
    "\n",
    "    res.write('<h3>Favorite Movie</h3>');\n",
    "    res.write('<div><ul>');\n",
    "\n",
    "    movieList.forEach(function (item) {\n",
    "        res.write('<li>' + item.title + '(' + item.director + ')</li>');\n",
    "    }, this);\n",
    "    res.write('</ul></div>');\n",
    "\n",
    "    res.write(\n",
    "        '<form method=\"post\" action=\".\"><h4>새 영화 입력</h4>' +\n",
    "        '<div><input type=\"text\" name=\"title\" placeholder=\"영화제목\"></div>' +\n",
    "        '<div><input type=\"text\" name=\"director\" placeholder=\"감독\"></div>' +\n",
    "        '<input type=\"submit\" value=\"upload\">' +\n",
    "        '</form>'\n",
    "        );\n",
    "    res.write('</body>');\n",
    "    res.write('</html>');\n",
    "    res.end();\n",
    "}"
   ]
  },
  {
   "cell_type": "code",
   "execution_count": 2,
   "metadata": {},
   "outputs": [
    {
     "data": {
      "text/plain": [
       "undefined"
      ]
     },
     "execution_count": 2,
     "metadata": {},
     "output_type": "execute_result"
    }
   ],
   "source": [
    "function addNewMovie(req, res) {\n",
    "    var body = '';\n",
    "    req.on('data', function(chunk) {\n",
    "        body += chunk;\n",
    "    });\n",
    "    req.on('end', function() {\n",
    "        var data = querystring.parse(body);\n",
    "        var title = data.title;\n",
    "        var director = data.director;\n",
    "        \n",
    "        movieList.push({title:title, director:director});\n",
    "        \n",
    "        //res.end('Success');\n",
    "        res.statusCode = 302;\n",
    "        res.setHeader('Location', '.');\n",
    "        res.end();\n",
    "    });\n",
    "}"
   ]
  },
  {
   "cell_type": "code",
   "execution_count": 3,
   "metadata": {},
   "outputs": [
    {
     "data": {
      "text/plain": [
       "Server {\n",
       "  _events:\n",
       "   { request: [Function],\n",
       "     connection: [Function: connectionListener] },\n",
       "  _eventsCount: 2,\n",
       "  _maxListeners: undefined,\n",
       "  _connections: 0,\n",
       "  _handle:\n",
       "   TCP {\n",
       "     reading: false,\n",
       "     onread: null,\n",
       "     onconnection: [Function: onconnection],\n",
       "     [Symbol(owner)]: [Circular] },\n",
       "  _usingWorkers: false,\n",
       "  _workers: [],\n",
       "  _unref: false,\n",
       "  allowHalfOpen: true,\n",
       "  pauseOnConnect: false,\n",
       "  httpAllowHalfOpen: false,\n",
       "  timeout: 120000,\n",
       "  keepAliveTimeout: 5000,\n",
       "  _pendingResponseData: 0,\n",
       "  maxHeadersCount: null,\n",
       "  _connectionKey: '6::::3000',\n",
       "  [Symbol(IncomingMessage)]:\n",
       "   { [Function: IncomingMessage]\n",
       "     super_:\n",
       "      { [Function: Readable]\n",
       "        ReadableState: [Function: ReadableState],\n",
       "        super_: [Function],\n",
       "        _fromList: [Function: fromList] } },\n",
       "  [Symbol(ServerResponse)]:\n",
       "   { [Function: ServerResponse] super_: { [Function: OutgoingMessage] super_: [Function] } },\n",
       "  [Symbol(asyncId)]: 28 }"
      ]
     },
     "execution_count": 3,
     "metadata": {},
     "output_type": "execute_result"
    }
   ],
   "source": [
    "var http = require('http');\n",
    "var querystring = require('querystring');\n",
    "var movieList = [{ title: '스타워즈4', director: '조지루카스' }];\n",
    "\n",
    "var server = http.createServer(function (req, res) {\n",
    "    if (req.method.toLowerCase() == 'post') {\n",
    "        addNewMovie(req, res);\n",
    "    }\n",
    "    // get이면 목록 출력\n",
    "    else {\n",
    "        showList(req, res);\n",
    "    }\n",
    "});\n",
    "server.listen(3000);"
   ]
  },
  {
   "cell_type": "code",
   "execution_count": null,
   "metadata": {},
   "outputs": [],
   "source": []
  }
 ],
 "metadata": {
  "kernelspec": {
   "display_name": "Javascript (Node.js)",
   "language": "javascript",
   "name": "javascript"
  },
  "language_info": {
   "file_extension": ".js",
   "mimetype": "application/javascript",
   "name": "javascript",
   "version": "10.13.0"
  }
 },
 "nbformat": 4,
 "nbformat_minor": 4
}
