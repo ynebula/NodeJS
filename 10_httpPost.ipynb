{
 "cells": [
  {
   "cell_type": "code",
   "execution_count": 2,
   "metadata": {},
   "outputs": [
    {
     "data": {
      "text/plain": [
       "undefined"
      ]
     },
     "execution_count": 2,
     "metadata": {},
     "output_type": "execute_result"
    }
   ],
   "source": [
    "var fs = require('fs');\n",
    "var pathUtil = require('path');\n",
    "\n",
    "// 업로드 된 파일 경로\n",
    "var uploadDir = __dirname + '/upload';\n",
    "\n",
    "// 이미지 파일 경로\n",
    "var imageDir = __dirname + '/image';\n",
    "\n",
    "var http = require('http');\n",
    "var formidable = require('formidable');\n",
    "\n",
    "// 업로드 된 데이터 목록\n",
    "var paintList = [];"
   ]
  },
  {
   "cell_type": "code",
   "execution_count": 3,
   "metadata": {},
   "outputs": [
    {
     "data": {
      "text/plain": [
       "undefined"
      ]
     },
     "execution_count": 3,
     "metadata": {},
     "output_type": "execute_result"
    }
   ],
   "source": [
    "var server = http.createServer(function (req, res) {\n",
    "   // 루트 경로로 요청\n",
    "   if (req.url == '/' && req.method.toLowerCase() == 'get') {\n",
    "      showList(res);\n",
    "   }\n",
    "   // <img> 태그로 인한 이미지 요청\n",
    "   else if (req.method.toLowerCase() == 'get' && req.url.indexOf('/image') == 0) {\n",
    "      var path = __dirname + req.url;\n",
    "      res.writeHead(200, { 'Content-Type': 'image/jpeg' })\n",
    "      fs.createReadStream(path).pipe(res);\n",
    "   }   \n",
    "   // 업로드 요청\n",
    "   else if (req.method.toLowerCase() == 'post') {\n",
    "      addNewPaint(req, res);\n",
    "   }\n",
    "\n",
    "});"
   ]
  },
  {
   "cell_type": "code",
   "execution_count": 4,
   "metadata": {},
   "outputs": [
    {
     "data": {
      "text/plain": [
       "undefined"
      ]
     },
     "execution_count": 4,
     "metadata": {},
     "output_type": "execute_result"
    }
   ],
   "source": [
    "function showList(res) {\n",
    "   res.writeHeader(200, { 'content-type': 'text/html' });\n",
    "\n",
    "   var body = '<html>';\n",
    "   body += '<head><meta charset=\"UTF-8\"></head>';\n",
    "   body += '<body>';\n",
    "   body += '<h3>Favorite Paint</h3>';\n",
    "\n",
    "   body += '<ul>';\n",
    "   paintList.forEach(function (item, index) {\n",
    "      body += '<li>';\n",
    "      if (item.image) {\n",
    "         body += '<img src=\"' + item.image + '\" style=\"height:100pt\"></img>';\n",
    "      }\n",
    "      body += item.title;\n",
    "      body += '</li>';\n",
    "   });\n",
    "   body += '</ul>';\n",
    "\n",
    "   body += '<form action=\".\" enctype=\"multipart/form-data\" method=\"post\">' +\n",
    "   '<div><label>작품 이름 : </label><input type=\"text\" name=\"title\"></div>' +\n",
    "   '<div><label>작품 이미지 : </label><input type=\"file\" name=\"image\" value=\"작품 파일 선택\"></div>' +\n",
    "   '<input type=\"submit\" value=\"upload\">' +\n",
    "   '</form>';\n",
    "   body += '</body></html>';\n",
    "\n",
    "   res.end(body);\n",
    "}"
   ]
  },
  {
   "cell_type": "code",
   "execution_count": 5,
   "metadata": {},
   "outputs": [
    {
     "data": {
      "text/plain": [
       "Server {\n",
       "  _events:\n",
       "   { request: [Function],\n",
       "     connection: [Function: connectionListener],\n",
       "     listening: { [Function: bound onceWrapper] listener: [Function] } },\n",
       "  _eventsCount: 3,\n",
       "  _maxListeners: undefined,\n",
       "  _connections: 0,\n",
       "  _handle:\n",
       "   TCP {\n",
       "     reading: false,\n",
       "     onread: null,\n",
       "     onconnection: [Function: onconnection],\n",
       "     [Symbol(owner)]: [Circular] },\n",
       "  _usingWorkers: false,\n",
       "  _workers: [],\n",
       "  _unref: false,\n",
       "  allowHalfOpen: true,\n",
       "  pauseOnConnect: false,\n",
       "  httpAllowHalfOpen: false,\n",
       "  timeout: 120000,\n",
       "  keepAliveTimeout: 5000,\n",
       "  _pendingResponseData: 0,\n",
       "  maxHeadersCount: null,\n",
       "  _connectionKey: '6::::3000',\n",
       "  [Symbol(IncomingMessage)]:\n",
       "   { [Function: IncomingMessage]\n",
       "     super_:\n",
       "      { [Function: Readable]\n",
       "        ReadableState: [Function: ReadableState],\n",
       "        super_: [Function],\n",
       "        _fromList: [Function: fromList] } },\n",
       "  [Symbol(ServerResponse)]:\n",
       "   { [Function: ServerResponse] super_: { [Function: OutgoingMessage] super_: [Function] } },\n",
       "  [Symbol(asyncId)]: 28 }"
      ]
     },
     "execution_count": 5,
     "metadata": {},
     "output_type": "execute_result"
    },
    {
     "name": "stdout",
     "output_type": "stream",
     "text": [
      "Server is running on 3000\n"
     ]
    }
   ],
   "source": [
    "server.listen(3000, function () {\n",
    "   console.log('Server is running on 3000');\n",
    "});"
   ]
  },
  {
   "cell_type": "code",
   "execution_count": 6,
   "metadata": {},
   "outputs": [
    {
     "data": {
      "text/plain": [
       "undefined"
      ]
     },
     "execution_count": 6,
     "metadata": {},
     "output_type": "execute_result"
    },
    {
     "name": "stderr",
     "output_type": "stream",
     "text": [
      "Error: ENOENT: no such file or directory, open 'upload/upload_b635dd00f200503b2630ea5663c59d1d'"
     ]
    },
    {
     "name": "stdout",
     "output_type": "stream",
     "text": [
      "File {\n",
      "  _events: {},\n",
      "  _eventsCount: 0,\n",
      "  _maxListeners: undefined,\n",
      "  size: 196205,\n",
      "  path: 'upload/upload_05bcbadfdcbafb623ac0d2d83e1f7ed8',\n",
      "  name: 'image_191014.jpg',\n",
      "  type: 'image/jpeg',\n",
      "  hash: null,\n",
      "  lastModifiedDate: 2021-02-08T13:02:39.172Z,\n",
      "  _writeStream:\n",
      "   WriteStream {\n",
      "     _writableState:\n",
      "      WritableState {\n",
      "        objectMode: false,\n",
      "        highWaterMark: 16384,\n",
      "        finalCalled: true,\n",
      "        needDrain: true,\n",
      "        ending: true,\n",
      "        ended: true,\n",
      "        finished: true,\n",
      "        destroyed: true,\n",
      "        decodeStrings: true,\n",
      "        defaultEncoding: 'utf8',\n",
      "        length: 0,\n",
      "        writing: false,\n",
      "        corked: 0,\n",
      "        sync: false,\n",
      "        bufferProcessing: false,\n",
      "        onwrite: [Function: bound onwrite],\n",
      "        writecb: null,\n",
      "        writelen: 0,\n",
      "        bufferedRequest: null,\n",
      "        lastBufferedRequest: null,\n",
      "        pendingcb: 0,\n",
      "        prefinished: true,\n",
      "        errorEmitted: false,\n",
      "        emitClose: false,\n",
      "        bufferedRequestCount: 0,\n",
      "        corkedRequestsFree: [Object] },\n",
      "     writable: false,\n",
      "     _events: {},\n",
      "     _eventsCount: 0,\n",
      "     _maxListeners: undefined,\n",
      "     path: 'upload/upload_05bcbadfdcbafb623ac0d2d83e1f7ed8',\n",
      "     fd: null,\n",
      "     flags: 'w',\n",
      "     mode: 438,\n",
      "     start: undefined,\n",
      "     autoClose: true,\n",
      "     pos: undefined,\n",
      "     bytesWritten: 196205,\n",
      "     closed: false } }\n"
     ]
    },
    {
     "name": "stderr",
     "output_type": "stream",
     "text": [
      "Error: ENOENT: no such file or directory, rename 'upload/upload_05bcbadfdcbafb623ac0d2d83e1f7ed8' -> './image/image_22239.jpg'\n",
      "    at Object.renameSync (fs.js:591:3)\n",
      "    at evalmachine.<anonymous>:17:12\n",
      "    at IncomingForm.<anonymous> (/Users/1004678/node_modules/formidable/lib/incoming_form.js:107:9)\n",
      "    at IncomingForm.emit (events.js:182:13)\n",
      "    at IncomingForm._maybeEnd (/Users/1004678/node_modules/formidable/lib/incoming_form.js:557:8)\n",
      "    at /Users/1004678/node_modules/formidable/lib/incoming_form.js:238:12\n",
      "    at WriteStream.<anonymous> (/Users/1004678/node_modules/formidable/lib/file.js:79:5)\n",
      "    at Object.onceWrapper (events.js:273:13)\n",
      "    at WriteStream.emit (events.js:182:13)\n",
      "    at finishMaybe (_stream_writable.js:641:14)"
     ]
    },
    {
     "name": "stdout",
     "output_type": "stream",
     "text": [
      "undefined\n"
     ]
    },
    {
     "name": "stderr",
     "output_type": "stream",
     "text": [
      "TypeError: Cannot read property 'name' of undefined\n",
      "    at evalmachine.<anonymous>:13:40\n",
      "    at IncomingForm.<anonymous> (/Users/1004678/node_modules/formidable/lib/incoming_form.js:104:9)\n",
      "    at IncomingForm.emit (events.js:182:13)\n",
      "    at IncomingForm._error (/Users/1004678/node_modules/formidable/lib/incoming_form.js:298:8)\n",
      "    at IncomingMessage.<anonymous> (/Users/1004678/node_modules/formidable/lib/incoming_form.js:122:12)\n",
      "    at IncomingMessage.emit (events.js:182:13)\n",
      "    at abortIncoming (_http_server.js:444:9)\n",
      "    at socketOnClose (_http_server.js:437:3)\n",
      "    at Socket.emit (events.js:187:15)\n",
      "    at TCP._handle.close (net.js:606:12)"
     ]
    },
    {
     "name": "stdout",
     "output_type": "stream",
     "text": [
      "File {\n",
      "  _events: {},\n",
      "  _eventsCount: 0,\n",
      "  _maxListeners: undefined,\n",
      "  size: 196205,\n",
      "  path: 'upload/upload_605f36c22b63e1cae6685958e7651493',\n",
      "  name: 'image_191014.jpg',\n",
      "  type: 'image/jpeg',\n",
      "  hash: null,\n",
      "  lastModifiedDate: 2021-02-08T13:03:30.482Z,\n",
      "  _writeStream:\n",
      "   WriteStream {\n",
      "     _writableState:\n",
      "      WritableState {\n",
      "        objectMode: false,\n",
      "        highWaterMark: 16384,\n",
      "        finalCalled: true,\n",
      "        needDrain: true,\n",
      "        ending: true,\n",
      "        ended: true,\n",
      "        finished: true,\n",
      "        destroyed: true,\n",
      "        decodeStrings: true,\n",
      "        defaultEncoding: 'utf8',\n",
      "        length: 0,\n",
      "        writing: false,\n",
      "        corked: 0,\n",
      "        sync: false,\n",
      "        bufferProcessing: false,\n",
      "        onwrite: [Function: bound onwrite],\n",
      "        writecb: null,\n",
      "        writelen: 0,\n",
      "        bufferedRequest: null,\n",
      "        lastBufferedRequest: null,\n",
      "        pendingcb: 0,\n",
      "        prefinished: true,\n",
      "        errorEmitted: false,\n",
      "        emitClose: false,\n",
      "        bufferedRequestCount: 0,\n",
      "        corkedRequestsFree: [Object] },\n",
      "     writable: false,\n",
      "     _events: {},\n",
      "     _eventsCount: 0,\n",
      "     _maxListeners: undefined,\n",
      "     path: 'upload/upload_605f36c22b63e1cae6685958e7651493',\n",
      "     fd: null,\n",
      "     flags: 'w',\n",
      "     mode: 438,\n",
      "     start: undefined,\n",
      "     autoClose: true,\n",
      "     pos: undefined,\n",
      "     bytesWritten: 196205,\n",
      "     closed: false } }\n"
     ]
    }
   ],
   "source": [
    "function addNewPaint(req, res) {\n",
    "    var form = formidable.IncomingForm();\n",
    "    form.uploadDir = uploadDir;\n",
    "    \n",
    "    form.parse(req, function(err, fields, files) {\n",
    "        var title = fields.title;\n",
    "        var image = files.image;\n",
    "        \n",
    "        console.log(image);\n",
    "        \n",
    "        var date = new Date();\n",
    "        var newImageName = 'image_' + date.getHours() + date.getMinutes() + date.getSeconds();\n",
    "        var ext = pathUtil.parse(image.name).ext;\n",
    "        \n",
    "        var newPath = __dirname + '/image/' + newImageName + ext;\n",
    "        \n",
    "        fs.renameSync(image.path, newPath);\n",
    "        \n",
    "        var url = 'image/' + newImageName + ext;\n",
    "        \n",
    "        var info = {\n",
    "            title : title, image:url\n",
    "        }\n",
    "        \n",
    "        paintList.push(info);\n",
    "        \n",
    "        res.statusCode = 302;\n",
    "        res.setHeader('Location', '.');        \n",
    "        res.end('Success');\n",
    "        \n",
    "    });\n",
    "}"
   ]
  },
  {
   "cell_type": "code",
   "execution_count": null,
   "metadata": {},
   "outputs": [],
   "source": []
  }
 ],
 "metadata": {
  "kernelspec": {
   "display_name": "Javascript (Node.js)",
   "language": "javascript",
   "name": "javascript"
  },
  "language_info": {
   "file_extension": ".js",
   "mimetype": "application/javascript",
   "name": "javascript",
   "version": "10.13.0"
  }
 },
 "nbformat": 4,
 "nbformat_minor": 4
}
