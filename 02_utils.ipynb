{
 "cells": [
  {
   "cell_type": "code",
   "execution_count": null,
   "metadata": {},
   "outputs": [],
   "source": [
    "var util = require('util');\n",
    "\n",
    "var str1 = util.format('%d + %d = %d', 1, 2, (1+2));\n",
    "console.log(str1);\n",
    "\n",
    "var str2 = util.format('%s, %s', 'Hello World', 'NodeJS');\n",
    "console.log(str2);"
   ]
  }
 ],
 "metadata": {
  "kernelspec": {
   "display_name": "Javascript (Node.js)",
   "language": "javascript",
   "name": "javascript"
  },
  "language_info": {
   "file_extension": ".js",
   "mimetype": "application/javascript",
   "name": "javascript",
   "version": "10.13.0"
  }
 },
 "nbformat": 4,
 "nbformat_minor": 4
}
