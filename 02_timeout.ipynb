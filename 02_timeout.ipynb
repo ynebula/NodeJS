{
 "cells": [
  {
   "cell_type": "code",
   "execution_count": 1,
   "metadata": {},
   "outputs": [
    {
     "name": "stdout",
     "output_type": "stream",
     "text": [
      "Hello World\n"
     ]
    },
    {
     "data": {
      "text/plain": [
       "Timeout {\n",
       "  _called: false,\n",
       "  _idleTimeout: 2000,\n",
       "  _idlePrev: [TimersList],\n",
       "  _idleNext: [TimersList],\n",
       "  _idleStart: 7550,\n",
       "  _onTimeout: [Function],\n",
       "  _timerArgs: undefined,\n",
       "  _repeat: 2000,\n",
       "  _destroyed: false,\n",
       "  [Symbol(unrefed)]: false,\n",
       "  [Symbol(asyncId)]: 13,\n",
       "  [Symbol(triggerId)]: 5 }"
      ]
     },
     "execution_count": 1,
     "metadata": {},
     "output_type": "execute_result"
    },
    {
     "name": "stdout",
     "output_type": "stream",
     "text": [
      "Hello World\n",
      "Hello World\n",
      "Hello World\n"
     ]
    }
   ],
   "source": [
    "function sayHello(){\n",
    "    console.log('Hello World');\n",
    "}\n",
    "\n",
    "sayHello();\n",
    "\n",
    "setTimeout(function (){\n",
    "    sayHello()\n",
    "}, 3*1000)\n",
    "\n",
    "setInterval(function (){\n",
    "    sayHello()\n",
    "}, 2*1000)"
   ]
  },
  {
   "cell_type": "code",
   "execution_count": null,
   "metadata": {},
   "outputs": [],
   "source": []
  }
 ],
 "metadata": {
  "kernelspec": {
   "display_name": "Javascript (Node.js)",
   "language": "javascript",
   "name": "javascript"
  },
  "language_info": {
   "file_extension": ".js",
   "mimetype": "application/javascript",
   "name": "javascript",
   "version": "10.13.0"
  }
 },
 "nbformat": 4,
 "nbformat_minor": 4
}
