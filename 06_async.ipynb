{
 "cells": [
  {
   "cell_type": "markdown",
   "metadata": {},
   "source": [
    "## Async\n",
    "Async 모듈을 이용해서 비동기 동작의 흐름을 제어"
   ]
  },
  {
   "cell_type": "code",
   "execution_count": 1,
   "metadata": {},
   "outputs": [
    {
     "data": {
      "text/plain": [
       "undefined"
      ]
     },
     "execution_count": 1,
     "metadata": {},
     "output_type": "execute_result"
    }
   ],
   "source": [
    "function task1(callback) {\n",
    "    console.log('Task1 시작');\n",
    "    setTimeout(function() {\n",
    "        console.log('Task1 끝');\n",
    "        callback(null, 'Task1 결과');\n",
    "    }, 300)\n",
    "}"
   ]
  },
  {
   "cell_type": "code",
   "execution_count": 2,
   "metadata": {},
   "outputs": [
    {
     "data": {
      "text/plain": [
       "undefined"
      ]
     },
     "execution_count": 2,
     "metadata": {},
     "output_type": "execute_result"
    }
   ],
   "source": [
    "function task2(callback) {\n",
    "    console.log('Task2 시작');\n",
    "    setTimeout(function() {\n",
    "        console.log('Task2 끝');\n",
    "        callback(null, 'Task2 결과');\n",
    "    }, 300)\n",
    "}"
   ]
  },
  {
   "cell_type": "code",
   "execution_count": 3,
   "metadata": {},
   "outputs": [
    {
     "name": "stdout",
     "output_type": "stream",
     "text": [
      "Task1 시작\n"
     ]
    },
    {
     "data": {
      "text/plain": [
       "undefined"
      ]
     },
     "execution_count": 3,
     "metadata": {},
     "output_type": "execute_result"
    },
    {
     "name": "stdout",
     "output_type": "stream",
     "text": [
      "Task1 끝\n",
      "Task2 시작\n",
      "Task2 끝\n",
      "비동기 동작 모두 종료 [ 'Task1 결과', 'Task2 결과' ]\n"
     ]
    }
   ],
   "source": [
    "var async = require('async');\n",
    "async.series([task1, task2], function(err, results) {\n",
    "    console.log('비동기 동작 모두 종료', results)\n",
    "});"
   ]
  },
  {
   "cell_type": "markdown",
   "metadata": {},
   "source": [
    "## Error"
   ]
  },
  {
   "cell_type": "code",
   "execution_count": 4,
   "metadata": {},
   "outputs": [
    {
     "data": {
      "text/plain": [
       "undefined"
      ]
     },
     "execution_count": 4,
     "metadata": {},
     "output_type": "execute_result"
    }
   ],
   "source": [
    "function task1(callback) {\n",
    "    console.log('Task1 시작');\n",
    "    setTimeout(function() {\n",
    "        console.log('Task1 끝');\n",
    "        callback('Error', null);\n",
    "    }, 300)\n",
    "}"
   ]
  },
  {
   "cell_type": "code",
   "execution_count": 5,
   "metadata": {},
   "outputs": [
    {
     "data": {
      "text/plain": [
       "undefined"
      ]
     },
     "execution_count": 5,
     "metadata": {},
     "output_type": "execute_result"
    }
   ],
   "source": [
    "function task2(callback) {\n",
    "    console.log('Task2 시작');\n",
    "    setTimeout(function() {\n",
    "        console.log('Task2 끝');\n",
    "        callback(null, 'Task2 결과');\n",
    "    }, 300)\n",
    "}"
   ]
  },
  {
   "cell_type": "code",
   "execution_count": 6,
   "metadata": {},
   "outputs": [
    {
     "name": "stdout",
     "output_type": "stream",
     "text": [
      "Task1 시작\n"
     ]
    },
    {
     "data": {
      "text/plain": [
       "undefined"
      ]
     },
     "execution_count": 6,
     "metadata": {},
     "output_type": "execute_result"
    },
    {
     "name": "stdout",
     "output_type": "stream",
     "text": [
      "Task1 끝\n"
     ]
    },
    {
     "name": "stderr",
     "output_type": "stream",
     "text": [
      "Error:  Error\n"
     ]
    }
   ],
   "source": [
    "var async = require('async');\n",
    "async.series([task1, task2], function(err, results) {\n",
    "    if(err) {\n",
    "        console.error('Error: ', err);\n",
    "        return;\n",
    "    }\n",
    "    console.log('비동기 동작 모두 종료', results)\n",
    "});"
   ]
  },
  {
   "cell_type": "code",
   "execution_count": null,
   "metadata": {},
   "outputs": [],
   "source": []
  }
 ],
 "metadata": {
  "kernelspec": {
   "display_name": "Javascript (Node.js)",
   "language": "javascript",
   "name": "javascript"
  },
  "language_info": {
   "file_extension": ".js",
   "mimetype": "application/javascript",
   "name": "javascript",
   "version": "10.13.0"
  }
 },
 "nbformat": 4,
 "nbformat_minor": 4
}
