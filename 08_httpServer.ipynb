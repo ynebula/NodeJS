{
 "cells": [
  {
   "cell_type": "markdown",
   "metadata": {},
   "source": [
    "## HTTP 요청"
   ]
  },
  {
   "cell_type": "code",
   "execution_count": 1,
   "metadata": {},
   "outputs": [
    {
     "data": {
      "text/plain": [
       "undefined"
      ]
     },
     "execution_count": 1,
     "metadata": {},
     "output_type": "execute_result"
    }
   ],
   "source": [
    "var http = require('http');\n",
    "var server = http.createServer();"
   ]
  },
  {
   "cell_type": "code",
   "execution_count": 6,
   "metadata": {},
   "outputs": [
    {
     "data": {
      "text/plain": [
       "Server {\n",
       "  _events:\n",
       "   { connection: [Function: connectionListener],\n",
       "     request: [Function] },\n",
       "  _eventsCount: 2,\n",
       "  _maxListeners: undefined,\n",
       "  _connections: 0,\n",
       "  _handle:\n",
       "   TCP {\n",
       "     reading: false,\n",
       "     onread: null,\n",
       "     onconnection: [Function: onconnection],\n",
       "     [Symbol(owner)]: [Circular] },\n",
       "  _usingWorkers: false,\n",
       "  _workers: [],\n",
       "  _unref: false,\n",
       "  allowHalfOpen: true,\n",
       "  pauseOnConnect: false,\n",
       "  httpAllowHalfOpen: false,\n",
       "  timeout: 120000,\n",
       "  keepAliveTimeout: 5000,\n",
       "  _pendingResponseData: 0,\n",
       "  maxHeadersCount: null,\n",
       "  _connectionKey: '6::::3000',\n",
       "  [Symbol(IncomingMessage)]:\n",
       "   { [Function: IncomingMessage]\n",
       "     super_:\n",
       "      { [Function: Readable]\n",
       "        ReadableState: [Function: ReadableState],\n",
       "        super_: [Function],\n",
       "        _fromList: [Function: fromList] } },\n",
       "  [Symbol(ServerResponse)]:\n",
       "   { [Function: ServerResponse] super_: { [Function: OutgoingMessage] super_: [Function] } },\n",
       "  [Symbol(asyncId)]: 18 }"
      ]
     },
     "execution_count": 6,
     "metadata": {},
     "output_type": "execute_result"
    },
    {
     "name": "stdout",
     "output_type": "stream",
     "text": [
      "Method:  GET\n",
      "url:  /\n",
      "headers:  { host: 'localhost:3000',\n",
      "  connection: 'keep-alive',\n",
      "  'cache-control': 'max-age=0',\n",
      "  'upgrade-insecure-requests': '1',\n",
      "  'user-agent':\n",
      "   'Mozilla/5.0 (Macintosh; Intel Mac OS X 10_15_7) AppleWebKit/537.36 (KHTML, like Gecko) Chrome/87.0.4280.141 Safari/537.36',\n",
      "  accept:\n",
      "   'text/html,application/xhtml+xml,application/xml;q=0.9,image/avif,image/webp,image/apng,*/*;q=0.8,application/signed-exchange;v=b3;q=0.9',\n",
      "  'sec-fetch-site': 'none',\n",
      "  'sec-fetch-mode': 'navigate',\n",
      "  'sec-fetch-user': '?1',\n",
      "  'sec-fetch-dest': 'document',\n",
      "  'accept-encoding': 'gzip, deflate, br',\n",
      "  'accept-language': 'ko-KR,ko;q=0.9,en-US;q=0.8,en;q=0.7',\n",
      "  cookie:\n",
      "   '_xsrf=2|3594600d|2b705b1b5eac393740c4ff6fd5f59b01|1610407032; username-localhost-8889=\"2|1:0|10:1610435068|23:username-localhost-8889|44:NjU2Njg2Y2Q5YTAxNDhlOGE0ZjYxMGM3NTAzMzI0N2I=|0f0727137609fa0eb8426695c65e1f0881a80f7ed1b7af2716463b22a8de79eb\"; username-localhost-8890=\"2|1:0|10:1610436391|23:username-localhost-8890|44:NWY2MjRhZWMzYTE5NDAzOThjYzUwNTA0NmM4MTkxMmM=|e51166e37061501a8615858cecc570527332d4018ceeff77ae92a8033cf4711b\"; username-localhost-8891=\"2|1:0|10:1610436424|23:username-localhost-8891|44:OWY3OWVhZTkwMTQ1NGYwZmEwZTJhNDI5MTk1ZTY1YjE=|894f41492200053a75c7ff009d510b2c6ed01177a91f2770997bec0dc8b1fc50\"; username-localhost-8892=\"2|1:0|10:1610442004|23:username-localhost-8892|44:NTg2OWQ5Nzg5MzVmNDBkYjkwMmUzZTM0ZGQyYjFkZmQ=|b275daaa2f6f00c906ec5952dff394455469c155c057725ab90efc8dda5f82fe\"; username-localhost-8888=\"2|1:0|10:1611010546|23:username-localhost-8888|44:YTBjNzk0Y2YyZDA3NDQ5N2I5ZDUzMjg3OWM3YjI5ZDI=|26bf63c33019e3b897a145f61bfd2326215112a33e656169aa4c1871483baaba\"' }\n",
      "Method:  GET\n",
      "url:  /favicon.ico\n",
      "headers:  { host: 'localhost:3000',\n",
      "  connection: 'keep-alive',\n",
      "  pragma: 'no-cache',\n",
      "  'cache-control': 'no-cache',\n",
      "  'user-agent':\n",
      "   'Mozilla/5.0 (Macintosh; Intel Mac OS X 10_15_7) AppleWebKit/537.36 (KHTML, like Gecko) Chrome/87.0.4280.141 Safari/537.36',\n",
      "  accept: 'image/avif,image/webp,image/apng,image/*,*/*;q=0.8',\n",
      "  'sec-fetch-site': 'same-origin',\n",
      "  'sec-fetch-mode': 'no-cors',\n",
      "  'sec-fetch-dest': 'image',\n",
      "  referer: 'http://localhost:3000/',\n",
      "  'accept-encoding': 'gzip, deflate, br',\n",
      "  'accept-language': 'ko-KR,ko;q=0.9,en-US;q=0.8,en;q=0.7',\n",
      "  cookie:\n",
      "   '_xsrf=2|3594600d|2b705b1b5eac393740c4ff6fd5f59b01|1610407032; username-localhost-8889=\"2|1:0|10:1610435068|23:username-localhost-8889|44:NjU2Njg2Y2Q5YTAxNDhlOGE0ZjYxMGM3NTAzMzI0N2I=|0f0727137609fa0eb8426695c65e1f0881a80f7ed1b7af2716463b22a8de79eb\"; username-localhost-8890=\"2|1:0|10:1610436391|23:username-localhost-8890|44:NWY2MjRhZWMzYTE5NDAzOThjYzUwNTA0NmM4MTkxMmM=|e51166e37061501a8615858cecc570527332d4018ceeff77ae92a8033cf4711b\"; username-localhost-8891=\"2|1:0|10:1610436424|23:username-localhost-8891|44:OWY3OWVhZTkwMTQ1NGYwZmEwZTJhNDI5MTk1ZTY1YjE=|894f41492200053a75c7ff009d510b2c6ed01177a91f2770997bec0dc8b1fc50\"; username-localhost-8892=\"2|1:0|10:1610442004|23:username-localhost-8892|44:NTg2OWQ5Nzg5MzVmNDBkYjkwMmUzZTM0ZGQyYjFkZmQ=|b275daaa2f6f00c906ec5952dff394455469c155c057725ab90efc8dda5f82fe\"; username-localhost-8888=\"2|1:0|10:1611010546|23:username-localhost-8888|44:YTBjNzk0Y2YyZDA3NDQ5N2I5ZDUzMjg3OWM3YjI5ZDI=|26bf63c33019e3b897a145f61bfd2326215112a33e656169aa4c1871483baaba\"' }\n"
     ]
    }
   ],
   "source": [
    "server.on('request',function(req, res){\n",
    "    console.log('Method: ', req.method);\n",
    "    console.log('url: ', req.url);\n",
    "    console.log('headers: ', req.headers);\n",
    "    \n",
    "    res.write('Hello World');\n",
    "    res.end()\n",
    "});\n",
    "\n",
    "server.listen(3000);"
   ]
  },
  {
   "cell_type": "markdown",
   "metadata": {},
   "source": [
    "## HTTP 응답\n",
    "content-type으로 화면에 그대로 보여줌"
   ]
  },
  {
   "cell_type": "code",
   "execution_count": null,
   "metadata": {},
   "outputs": [],
   "source": [
    "var http = require('http');\n",
    "var server = http.createServer();"
   ]
  },
  {
   "cell_type": "code",
   "execution_count": 2,
   "metadata": {},
   "outputs": [
    {
     "data": {
      "text/plain": [
       "Server {\n",
       "  _events:\n",
       "   { connection: [Function: connectionListener],\n",
       "     request: [Function] },\n",
       "  _eventsCount: 2,\n",
       "  _maxListeners: undefined,\n",
       "  _connections: 0,\n",
       "  _handle:\n",
       "   TCP {\n",
       "     reading: false,\n",
       "     onread: null,\n",
       "     onconnection: [Function: onconnection],\n",
       "     [Symbol(owner)]: [Circular] },\n",
       "  _usingWorkers: false,\n",
       "  _workers: [],\n",
       "  _unref: false,\n",
       "  allowHalfOpen: true,\n",
       "  pauseOnConnect: false,\n",
       "  httpAllowHalfOpen: false,\n",
       "  timeout: 120000,\n",
       "  keepAliveTimeout: 5000,\n",
       "  _pendingResponseData: 0,\n",
       "  maxHeadersCount: null,\n",
       "  _connectionKey: '6::::3000',\n",
       "  [Symbol(IncomingMessage)]:\n",
       "   { [Function: IncomingMessage]\n",
       "     super_:\n",
       "      { [Function: Readable]\n",
       "        ReadableState: [Function: ReadableState],\n",
       "        super_: [Function],\n",
       "        _fromList: [Function: fromList] } },\n",
       "  [Symbol(ServerResponse)]:\n",
       "   { [Function: ServerResponse] super_: { [Function: OutgoingMessage] super_: [Function] } },\n",
       "  [Symbol(asyncId)]: 13 }"
      ]
     },
     "execution_count": 2,
     "metadata": {},
     "output_type": "execute_result"
    }
   ],
   "source": [
    "server.on('request',function(req, res){\n",
    "    res.statusCode = 200;\n",
    "    res.statusMessage = 'OKOK'\n",
    "    res.setHeader('content-type', 'text/plain')\n",
    "    \n",
    "    res.write('<html><body><h1>Hello World</h1></body></html>');\n",
    "    res.end()\n",
    "});\n",
    "\n",
    "server.listen(3000);"
   ]
  },
  {
   "cell_type": "markdown",
   "metadata": {},
   "source": [
    "## HTTP 서버 작성"
   ]
  },
  {
   "cell_type": "code",
   "execution_count": 2,
   "metadata": {},
   "outputs": [
    {
     "data": {
      "text/plain": [
       "undefined"
      ]
     },
     "execution_count": 2,
     "metadata": {},
     "output_type": "execute_result"
    }
   ],
   "source": [
    "var http = require('http');\n",
    "var fs = require('fs');\n",
    "\n",
    "var server = http.createServer(function(req, res){\n",
    "    fs.access('./img/cat.jpg', function(err){\n",
    "        if(err){\n",
    "            res.statusCode = 404;\n",
    "            res.end();\n",
    "            return;\n",
    "        }\n",
    "        \n",
    "        fs.readFile('./img/cat.jpg', function(err, data){\n",
    "            res.end(data);\n",
    "        });\n",
    "    });\n",
    "}).listen(3000);"
   ]
  },
  {
   "cell_type": "code",
   "execution_count": 2,
   "metadata": {},
   "outputs": [
    {
     "data": {
      "text/plain": [
       "undefined"
      ]
     },
     "execution_count": 2,
     "metadata": {},
     "output_type": "execute_result"
    }
   ],
   "source": [
    "// http://localhost:3000/count?start=1&end=10\n",
    "var server = http.createServer(function(req, res){\n",
    "    // URL 분석: 쿼리 문자열\n",
    "    var parsed = url.parse(req.url, true);\n",
    "    var query = parsed.query;\n",
    "    \n",
    "    // start와 end\n",
    "    var start = parseInt(query.start);\n",
    "    var end = parseInt(query.end);\n",
    "    \n",
    "    if(!start || !end) {\n",
    "        res.statusCode = 404;\n",
    "        res.end('Wrong Parameter');\n",
    "    } else {\n",
    "        // 합계 구하기\n",
    "        var result = 0;\n",
    "        for(var i=start; i<end; i++) {\n",
    "            result += i;\n",
    "        }\n",
    "        \n",
    "        res.statusCode = 200;\n",
    "        res.end('Result: '+result);\n",
    "    }\n",
    "}).listen(3000);"
   ]
  },
  {
   "cell_type": "code",
   "execution_count": null,
   "metadata": {},
   "outputs": [],
   "source": []
  },
  {
   "cell_type": "code",
   "execution_count": null,
   "metadata": {},
   "outputs": [],
   "source": []
  },
  {
   "cell_type": "code",
   "execution_count": null,
   "metadata": {},
   "outputs": [],
   "source": []
  },
  {
   "cell_type": "code",
   "execution_count": null,
   "metadata": {},
   "outputs": [],
   "source": []
  }
 ],
 "metadata": {
  "kernelspec": {
   "display_name": "Javascript (Node.js)",
   "language": "javascript",
   "name": "javascript"
  },
  "language_info": {
   "file_extension": ".js",
   "mimetype": "application/javascript",
   "name": "javascript",
   "version": "10.13.0"
  }
 },
 "nbformat": 4,
 "nbformat_minor": 4
}
